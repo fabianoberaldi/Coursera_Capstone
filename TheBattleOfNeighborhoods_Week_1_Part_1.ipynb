{
 "cells": [
  {
   "cell_type": "markdown",
   "metadata": {},
   "source": [
    "# The Battle of Neighborhoods - Week 1\n",
    "## The Groceries Contractor"
   ]
  },
  {
   "cell_type": "markdown",
   "metadata": {},
   "source": [
    "### Part 1 - Business Problem (Description)"
   ]
  },
  {
   "cell_type": "markdown",
   "metadata": {},
   "source": [
    "There is a contractor in one of the boroughs of Toronto (Mississauga), that provides places such as: restaurants, bakeries and coffe shops. "
   ]
  },
  {
   "cell_type": "markdown",
   "metadata": {},
   "source": [
    "The contractor wants to build a warehouse for the groceries it buys from villagers and farmers inside the borough, so that they will support more customers and also bring better quality of service."
   ]
  },
  {
   "cell_type": "markdown",
   "metadata": {},
   "source": [
    "If the warehouse is close to those restaurants, then the vegetables and other groceries would be delivered to the restaurant in the right time and there would be no delay so the restaurant cooks can start their job from the morning, increasing the quality of service. That way, the contractor business will be more profitable."
   ]
  },
  {
   "cell_type": "markdown",
   "metadata": {},
   "source": [
    "The contractor should build this warehouse where it is closest to its customers in order to minimize the cost of transpotation. \n",
    "To find the right place is the mission.The system need to provide the best recomendation to the contractor, suggesting the best neighborhood to buid the warehouse."
   ]
  },
  {
   "cell_type": "markdown",
   "metadata": {},
   "source": [
    "The system need to provide the best recomendation to the contractor, suggesting the best neighborhood to buid the warehouse."
   ]
  }
 ],
 "metadata": {
  "kernelspec": {
   "display_name": "Python 3",
   "language": "python",
   "name": "python3"
  },
  "language_info": {
   "codemirror_mode": {
    "name": "ipython",
    "version": 3
   },
   "file_extension": ".py",
   "mimetype": "text/x-python",
   "name": "python",
   "nbconvert_exporter": "python",
   "pygments_lexer": "ipython3",
   "version": "3.6.5"
  }
 },
 "nbformat": 4,
 "nbformat_minor": 2
}
