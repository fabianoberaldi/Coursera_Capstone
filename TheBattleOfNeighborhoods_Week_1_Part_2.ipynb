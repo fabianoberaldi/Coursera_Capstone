{
 "cells": [
  {
   "cell_type": "markdown",
   "metadata": {},
   "source": [
    "# The Battle of Neighborhoods - Week 1\n",
    "## The Groceries Contractor"
   ]
  },
  {
   "cell_type": "markdown",
   "metadata": {},
   "source": [
    "### Part 2 - Data Description"
   ]
  },
  {
   "cell_type": "markdown",
   "metadata": {},
   "source": [
    "<p>\n",
    "    We need the informations below:\n",
    "<p>\n",
    "<ul>\n",
    "  <li>Geo-locational information and the neighborhoods in Mississauga, Toronto (latitude and longitude)</li>\n",
    "  <li>The postal codes</li>\n",
    "</ul>\n",
    "<p>\n",
    "    We need data about different venues in different neighborhood from Mississauga. In order to get this information, we can use Foursquare API.\n",
    "<p>\n",
    "<p>\n",
    "    We are looking for advanced information, such as venue's category and if that venue is popular in its category or the average price of the services of this venue. \n",
    "<p/>    \n"
   ]
  },
  {
   "cell_type": "code",
   "execution_count": null,
   "metadata": {},
   "outputs": [],
   "source": []
  }
 ],
 "metadata": {
  "kernelspec": {
   "display_name": "Python 3",
   "language": "python",
   "name": "python3"
  },
  "language_info": {
   "codemirror_mode": {
    "name": "ipython",
    "version": 3
   },
   "file_extension": ".py",
   "mimetype": "text/x-python",
   "name": "python",
   "nbconvert_exporter": "python",
   "pygments_lexer": "ipython3",
   "version": "3.6.5"
  }
 },
 "nbformat": 4,
 "nbformat_minor": 2
}
